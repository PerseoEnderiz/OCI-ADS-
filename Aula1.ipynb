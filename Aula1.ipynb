{
 "cells": [
  {
   "cell_type": "markdown",
   "id": "5d78a507",
   "metadata": {},
   "source": [
    "### OCI Data Science - Useful Tips\n",
    "<details>\n",
    "<summary><font size=\"2\">Check for Public Internet Access</font></summary>\n",
    "\n",
    "```python\n",
    "import requests\n",
    "response = requests.get(\"https://oracle.com\")\n",
    "assert response.status_code==200, \"Internet connection failed\"\n",
    "```\n",
    "</details>\n",
    "<details>\n",
    "<summary><font size=\"2\">Helpful Documentation </font></summary>\n",
    "<ul><li><a href=\"https://docs.cloud.oracle.com/en-us/iaas/data-science/using/data-science.htm\">Data Science Service Documentation</a></li>\n",
    "<li><a href=\"https://docs.cloud.oracle.com/iaas/tools/ads-sdk/latest/index.html\">ADS documentation</a></li>\n",
    "</ul>\n",
    "</details>\n",
    "<details>\n",
    "<summary><font size=\"2\">Typical Cell Imports and Settings for ADS</font></summary>\n",
    "\n",
    "```python\n",
    "%load_ext autoreload\n",
    "%autoreload 2\n",
    "%matplotlib inline\n",
    "\n",
    "import warnings\n",
    "warnings.filterwarnings('ignore')\n",
    "\n",
    "import logging\n",
    "logging.basicConfig(format='%(levelname)s:%(message)s', level=logging.ERROR)\n",
    "\n",
    "import ads\n",
    "from ads.dataset.factory import DatasetFactory\n",
    "from ads.automl.provider import OracleAutoMLProvider\n",
    "from ads.automl.driver import AutoML\n",
    "from ads.evaluations.evaluator import ADSEvaluator\n",
    "from ads.common.data import ADSData\n",
    "from ads.explanations.explainer import ADSExplainer\n",
    "from ads.explanations.mlx_global_explainer import MLXGlobalExplainer\n",
    "from ads.explanations.mlx_local_explainer import MLXLocalExplainer\n",
    "from ads.catalog.model import ModelCatalog\n",
    "from ads.common.model_artifact import ModelArtifact\n",
    "```\n",
    "</details>\n",
    "<details>\n",
    "<summary><font size=\"2\">Useful Environment Variables</font></summary>\n",
    "\n",
    "```python\n",
    "import os\n",
    "print(os.environ[\"NB_SESSION_COMPARTMENT_OCID\"])\n",
    "print(os.environ[\"PROJECT_OCID\"])\n",
    "print(os.environ[\"USER_OCID\"])\n",
    "print(os.environ[\"TENANCY_OCID\"])\n",
    "print(os.environ[\"NB_REGION\"])\n",
    "```\n",
    "</details>"
   ]
  },
  {
   "cell_type": "markdown",
   "id": "e23b1766",
   "metadata": {},
   "source": [
    "# 1.5 Versión de las bibliotecas"
   ]
  },
  {
   "cell_type": "code",
   "execution_count": 1,
   "id": "75c6f1d3",
   "metadata": {},
   "outputs": [],
   "source": [
    "import ads\n",
    "import pandas as pd"
   ]
  },
  {
   "cell_type": "code",
   "execution_count": 3,
   "id": "5a2e089a",
   "metadata": {},
   "outputs": [
    {
     "data": {
      "text/plain": [
       "'2.6.8'"
      ]
     },
     "execution_count": 3,
     "metadata": {},
     "output_type": "execute_result"
    }
   ],
   "source": [
    "ads.__version__"
   ]
  },
  {
   "cell_type": "code",
   "execution_count": 4,
   "id": "934b977b",
   "metadata": {},
   "outputs": [
    {
     "data": {
      "text/plain": [
       "'1.4.4'"
      ]
     },
     "execution_count": 4,
     "metadata": {},
     "output_type": "execute_result"
    }
   ],
   "source": [
    "pd.__version__"
   ]
  },
  {
   "cell_type": "code",
   "execution_count": 5,
   "id": "dc7f0e51",
   "metadata": {},
   "outputs": [
    {
     "data": {
      "text/html": [
       "<div>\n",
       "<style scoped>\n",
       "    .dataframe tbody tr th:only-of-type {\n",
       "        vertical-align: middle;\n",
       "    }\n",
       "\n",
       "    .dataframe tbody tr th {\n",
       "        vertical-align: top;\n",
       "    }\n",
       "\n",
       "    .dataframe thead th {\n",
       "        text-align: right;\n",
       "    }\n",
       "</style>\n",
       "<table border=\"1\" class=\"dataframe\">\n",
       "  <thead>\n",
       "    <tr style=\"text-align: right;\">\n",
       "      <th></th>\n",
       "      <th>male</th>\n",
       "      <th>age</th>\n",
       "      <th>education</th>\n",
       "      <th>currentSmoker</th>\n",
       "      <th>cigsPerDay</th>\n",
       "      <th>BPMeds</th>\n",
       "      <th>prevalentStroke</th>\n",
       "      <th>prevalentHyp</th>\n",
       "      <th>diabetes</th>\n",
       "      <th>totChol</th>\n",
       "      <th>sysBP</th>\n",
       "      <th>diaBP</th>\n",
       "      <th>BMI</th>\n",
       "      <th>heartRate</th>\n",
       "      <th>glucose</th>\n",
       "      <th>TenYearCHD</th>\n",
       "    </tr>\n",
       "  </thead>\n",
       "  <tbody>\n",
       "    <tr>\n",
       "      <th>638</th>\n",
       "      <td>1</td>\n",
       "      <td>51</td>\n",
       "      <td>1.0</td>\n",
       "      <td>0</td>\n",
       "      <td>0.0</td>\n",
       "      <td>0.0</td>\n",
       "      <td>0</td>\n",
       "      <td>0</td>\n",
       "      <td>0</td>\n",
       "      <td>250.0</td>\n",
       "      <td>125.0</td>\n",
       "      <td>80.0</td>\n",
       "      <td>26.98</td>\n",
       "      <td>67.0</td>\n",
       "      <td>108.0</td>\n",
       "      <td>0</td>\n",
       "    </tr>\n",
       "    <tr>\n",
       "      <th>4081</th>\n",
       "      <td>0</td>\n",
       "      <td>63</td>\n",
       "      <td>3.0</td>\n",
       "      <td>0</td>\n",
       "      <td>0.0</td>\n",
       "      <td>0.0</td>\n",
       "      <td>0</td>\n",
       "      <td>0</td>\n",
       "      <td>0</td>\n",
       "      <td>253.0</td>\n",
       "      <td>128.0</td>\n",
       "      <td>81.0</td>\n",
       "      <td>26.92</td>\n",
       "      <td>80.0</td>\n",
       "      <td>102.0</td>\n",
       "      <td>0</td>\n",
       "    </tr>\n",
       "    <tr>\n",
       "      <th>1511</th>\n",
       "      <td>0</td>\n",
       "      <td>38</td>\n",
       "      <td>2.0</td>\n",
       "      <td>0</td>\n",
       "      <td>0.0</td>\n",
       "      <td>0.0</td>\n",
       "      <td>0</td>\n",
       "      <td>0</td>\n",
       "      <td>0</td>\n",
       "      <td>255.0</td>\n",
       "      <td>125.0</td>\n",
       "      <td>85.0</td>\n",
       "      <td>23.05</td>\n",
       "      <td>72.0</td>\n",
       "      <td>73.0</td>\n",
       "      <td>0</td>\n",
       "    </tr>\n",
       "    <tr>\n",
       "      <th>421</th>\n",
       "      <td>1</td>\n",
       "      <td>44</td>\n",
       "      <td>1.0</td>\n",
       "      <td>0</td>\n",
       "      <td>0.0</td>\n",
       "      <td>NaN</td>\n",
       "      <td>0</td>\n",
       "      <td>0</td>\n",
       "      <td>1</td>\n",
       "      <td>190.0</td>\n",
       "      <td>122.0</td>\n",
       "      <td>81.0</td>\n",
       "      <td>36.12</td>\n",
       "      <td>70.0</td>\n",
       "      <td>143.0</td>\n",
       "      <td>0</td>\n",
       "    </tr>\n",
       "    <tr>\n",
       "      <th>3095</th>\n",
       "      <td>0</td>\n",
       "      <td>52</td>\n",
       "      <td>4.0</td>\n",
       "      <td>1</td>\n",
       "      <td>20.0</td>\n",
       "      <td>0.0</td>\n",
       "      <td>0</td>\n",
       "      <td>0</td>\n",
       "      <td>0</td>\n",
       "      <td>254.0</td>\n",
       "      <td>114.0</td>\n",
       "      <td>80.0</td>\n",
       "      <td>16.59</td>\n",
       "      <td>75.0</td>\n",
       "      <td>74.0</td>\n",
       "      <td>0</td>\n",
       "    </tr>\n",
       "  </tbody>\n",
       "</table>\n",
       "</div>"
      ],
      "text/plain": [
       "      male  age  education  currentSmoker  cigsPerDay  BPMeds  \\\n",
       "638      1   51        1.0              0         0.0     0.0   \n",
       "4081     0   63        3.0              0         0.0     0.0   \n",
       "1511     0   38        2.0              0         0.0     0.0   \n",
       "421      1   44        1.0              0         0.0     NaN   \n",
       "3095     0   52        4.0              1        20.0     0.0   \n",
       "\n",
       "      prevalentStroke  prevalentHyp  diabetes  totChol  sysBP  diaBP    BMI  \\\n",
       "638                 0             0         0    250.0  125.0   80.0  26.98   \n",
       "4081                0             0         0    253.0  128.0   81.0  26.92   \n",
       "1511                0             0         0    255.0  125.0   85.0  23.05   \n",
       "421                 0             0         1    190.0  122.0   81.0  36.12   \n",
       "3095                0             0         0    254.0  114.0   80.0  16.59   \n",
       "\n",
       "      heartRate  glucose  TenYearCHD  \n",
       "638        67.0    108.0           0  \n",
       "4081       80.0    102.0           0  \n",
       "1511       72.0     73.0           0  \n",
       "421        70.0    143.0           0  \n",
       "3095       75.0     74.0           0  "
      ]
     },
     "execution_count": 5,
     "metadata": {},
     "output_type": "execute_result"
    }
   ],
   "source": [
    "datos = pd.read_csv('framingham.csv')\n",
    "datos.sample(5)"
   ]
  },
  {
   "cell_type": "code",
   "execution_count": 6,
   "id": "0d53fb7b",
   "metadata": {},
   "outputs": [
    {
     "data": {
      "text/plain": [
       "(4238, 16)"
      ]
     },
     "execution_count": 6,
     "metadata": {},
     "output_type": "execute_result"
    }
   ],
   "source": [
    "datos.shape"
   ]
  },
  {
   "cell_type": "code",
   "execution_count": 7,
   "id": "f3d5c4b2",
   "metadata": {},
   "outputs": [
    {
     "data": {
      "text/plain": [
       "Index(['male', 'age', 'education', 'currentSmoker', 'cigsPerDay', 'BPMeds',\n",
       "       'prevalentStroke', 'prevalentHyp', 'diabetes', 'totChol', 'sysBP',\n",
       "       'diaBP', 'BMI', 'heartRate', 'glucose', 'TenYearCHD'],\n",
       "      dtype='object')"
      ]
     },
     "execution_count": 7,
     "metadata": {},
     "output_type": "execute_result"
    }
   ],
   "source": [
    "datos.columns"
   ]
  },
  {
   "cell_type": "markdown",
   "id": "8ada386a",
   "metadata": {},
   "source": [
    "## 2.2 Cargando el CSV"
   ]
  },
  {
   "cell_type": "code",
   "execution_count": 8,
   "id": "463cdabb",
   "metadata": {},
   "outputs": [
    {
     "data": {
      "application/vnd.jupyter.widget-view+json": {
       "model_id": "852fb89be3c440b1b7ff600abf386e9c",
       "version_major": 2,
       "version_minor": 0
      },
      "text/plain": [
       "loop1:   0%|          | 0/4 [00:00<?, ?it/s]"
      ]
     },
     "metadata": {},
     "output_type": "display_data"
    }
   ],
   "source": [
    "from ads.dataset.factory import DatasetFactory\n",
    "\n",
    "ds = DatasetFactory.open('framingham.csv') "
   ]
  },
  {
   "cell_type": "code",
   "execution_count": 10,
   "id": "35d840a3",
   "metadata": {},
   "outputs": [
    {
     "data": {
      "text/html": [
       "<div>\n",
       "<style scoped>\n",
       "    .dataframe tbody tr th:only-of-type {\n",
       "        vertical-align: middle;\n",
       "    }\n",
       "\n",
       "    .dataframe tbody tr th {\n",
       "        vertical-align: top;\n",
       "    }\n",
       "\n",
       "    .dataframe thead th {\n",
       "        text-align: right;\n",
       "    }\n",
       "</style>\n",
       "<table border=\"1\" class=\"dataframe\">\n",
       "  <thead>\n",
       "    <tr style=\"text-align: right;\">\n",
       "      <th></th>\n",
       "      <th>male</th>\n",
       "      <th>age</th>\n",
       "      <th>education</th>\n",
       "      <th>currentSmoker</th>\n",
       "      <th>cigsPerDay</th>\n",
       "      <th>BPMeds</th>\n",
       "      <th>prevalentStroke</th>\n",
       "      <th>prevalentHyp</th>\n",
       "      <th>diabetes</th>\n",
       "      <th>totChol</th>\n",
       "      <th>sysBP</th>\n",
       "      <th>diaBP</th>\n",
       "      <th>BMI</th>\n",
       "      <th>heartRate</th>\n",
       "      <th>glucose</th>\n",
       "      <th>TenYearCHD</th>\n",
       "    </tr>\n",
       "  </thead>\n",
       "  <tbody>\n",
       "    <tr>\n",
       "      <th>0</th>\n",
       "      <td>1</td>\n",
       "      <td>39</td>\n",
       "      <td>4.0</td>\n",
       "      <td>0</td>\n",
       "      <td>0.0</td>\n",
       "      <td>0.0</td>\n",
       "      <td>0</td>\n",
       "      <td>0</td>\n",
       "      <td>0</td>\n",
       "      <td>195.0</td>\n",
       "      <td>106.0</td>\n",
       "      <td>70.0</td>\n",
       "      <td>26.97</td>\n",
       "      <td>80.0</td>\n",
       "      <td>77.0</td>\n",
       "      <td>0</td>\n",
       "    </tr>\n",
       "    <tr>\n",
       "      <th>1</th>\n",
       "      <td>0</td>\n",
       "      <td>46</td>\n",
       "      <td>2.0</td>\n",
       "      <td>0</td>\n",
       "      <td>0.0</td>\n",
       "      <td>0.0</td>\n",
       "      <td>0</td>\n",
       "      <td>0</td>\n",
       "      <td>0</td>\n",
       "      <td>250.0</td>\n",
       "      <td>121.0</td>\n",
       "      <td>81.0</td>\n",
       "      <td>28.73</td>\n",
       "      <td>95.0</td>\n",
       "      <td>76.0</td>\n",
       "      <td>0</td>\n",
       "    </tr>\n",
       "    <tr>\n",
       "      <th>2</th>\n",
       "      <td>1</td>\n",
       "      <td>48</td>\n",
       "      <td>1.0</td>\n",
       "      <td>1</td>\n",
       "      <td>20.0</td>\n",
       "      <td>0.0</td>\n",
       "      <td>0</td>\n",
       "      <td>0</td>\n",
       "      <td>0</td>\n",
       "      <td>245.0</td>\n",
       "      <td>127.5</td>\n",
       "      <td>80.0</td>\n",
       "      <td>25.34</td>\n",
       "      <td>75.0</td>\n",
       "      <td>70.0</td>\n",
       "      <td>0</td>\n",
       "    </tr>\n",
       "    <tr>\n",
       "      <th>3</th>\n",
       "      <td>0</td>\n",
       "      <td>61</td>\n",
       "      <td>3.0</td>\n",
       "      <td>1</td>\n",
       "      <td>30.0</td>\n",
       "      <td>0.0</td>\n",
       "      <td>0</td>\n",
       "      <td>1</td>\n",
       "      <td>0</td>\n",
       "      <td>225.0</td>\n",
       "      <td>150.0</td>\n",
       "      <td>95.0</td>\n",
       "      <td>28.58</td>\n",
       "      <td>65.0</td>\n",
       "      <td>103.0</td>\n",
       "      <td>1</td>\n",
       "    </tr>\n",
       "    <tr>\n",
       "      <th>4</th>\n",
       "      <td>0</td>\n",
       "      <td>46</td>\n",
       "      <td>3.0</td>\n",
       "      <td>1</td>\n",
       "      <td>23.0</td>\n",
       "      <td>0.0</td>\n",
       "      <td>0</td>\n",
       "      <td>0</td>\n",
       "      <td>0</td>\n",
       "      <td>285.0</td>\n",
       "      <td>130.0</td>\n",
       "      <td>84.0</td>\n",
       "      <td>23.10</td>\n",
       "      <td>85.0</td>\n",
       "      <td>85.0</td>\n",
       "      <td>0</td>\n",
       "    </tr>\n",
       "  </tbody>\n",
       "</table>\n",
       "</div>"
      ],
      "text/plain": [
       "   male  age  education  currentSmoker  cigsPerDay  BPMeds  prevalentStroke  \\\n",
       "0     1   39        4.0              0         0.0     0.0                0   \n",
       "1     0   46        2.0              0         0.0     0.0                0   \n",
       "2     1   48        1.0              1        20.0     0.0                0   \n",
       "3     0   61        3.0              1        30.0     0.0                0   \n",
       "4     0   46        3.0              1        23.0     0.0                0   \n",
       "\n",
       "   prevalentHyp  diabetes  totChol  sysBP  diaBP    BMI  heartRate  glucose  \\\n",
       "0             0         0    195.0  106.0   70.0  26.97       80.0     77.0   \n",
       "1             0         0    250.0  121.0   81.0  28.73       95.0     76.0   \n",
       "2             0         0    245.0  127.5   80.0  25.34       75.0     70.0   \n",
       "3             1         0    225.0  150.0   95.0  28.58       65.0    103.0   \n",
       "4             0         0    285.0  130.0   84.0  23.10       85.0     85.0   \n",
       "\n",
       "   TenYearCHD  \n",
       "0           0  \n",
       "1           0  \n",
       "2           0  \n",
       "3           1  \n",
       "4           0  "
      ]
     },
     "execution_count": 10,
     "metadata": {},
     "output_type": "execute_result"
    }
   ],
   "source": [
    "ds.head()"
   ]
  },
  {
   "cell_type": "code",
   "execution_count": 11,
   "id": "0fae1de4",
   "metadata": {},
   "outputs": [
    {
     "data": {
      "text/plain": [
       "ads.dataset.dataset.ADSDataset"
      ]
     },
     "execution_count": 11,
     "metadata": {},
     "output_type": "execute_result"
    }
   ],
   "source": [
    "type(ds)"
   ]
  },
  {
   "cell_type": "code",
   "execution_count": 12,
   "id": "7b5544b1",
   "metadata": {},
   "outputs": [
    {
     "data": {
      "text/plain": [
       "pandas.core.frame.DataFrame"
      ]
     },
     "execution_count": 12,
     "metadata": {},
     "output_type": "execute_result"
    }
   ],
   "source": [
    "type(datos)"
   ]
  },
  {
   "cell_type": "code",
   "execution_count": 13,
   "id": "d894b45a",
   "metadata": {},
   "outputs": [],
   "source": [
    "dict_ing_esp = {\n",
    "    'male': 'sexo',\n",
    "     'age': 'edad',\n",
    "     'education': 'escolaridad',\n",
    "     'currentSmoker': 'fumador',\n",
    "     'cigsPerDay': 'cigarrillos_por_dia',                     \n",
    "     'BPMeds': 'uso_medicamento_presion',\n",
    "     'prevalentStroke': 'acv',\n",
    "     'prevalentHyp': 'hipertension',\n",
    "     'diabetes': 'diabetes',\n",
    "     'totChol': 'colesterol_total',\n",
    "     'sysBP': 'presion_arterial_sistolica',\n",
    "     'diaBP': 'presion_arterial_diastolica',\n",
    "     'BMI': 'imc',\n",
    "     'heartRate': 'frecuencia_cardiaca',\n",
    "     'glucose': 'glicemia',\n",
    "     'TenYearCHD': 'riesgo_eac_decada'\n",
    "}"
   ]
  },
  {
   "cell_type": "code",
   "execution_count": 14,
   "id": "9d547a4c",
   "metadata": {},
   "outputs": [
    {
     "data": {
      "text/plain": [
       "Index(['sexo', 'edad', 'escolaridad', 'fumador', 'cigarrillos_por_dia',\n",
       "       'uso_medicamento_presion', 'acv', 'hipertension', 'diabetes',\n",
       "       'colesterol_total', 'presion_arterial_sistolica',\n",
       "       'presion_arterial_diastolica', 'imc', 'frecuencia_cardiaca', 'glicemia',\n",
       "       'riesgo_eac_decada'],\n",
       "      dtype='object')"
      ]
     },
     "execution_count": 14,
     "metadata": {},
     "output_type": "execute_result"
    }
   ],
   "source": [
    "# Renombrando las columnas\n",
    "ds =ds.rename_columns(columns=dict_ing_esp)\n",
    "\n",
    "# Mostrando el nombre de las columnas \n",
    "ds.columns"
   ]
  },
  {
   "cell_type": "code",
   "execution_count": 15,
   "id": "04b8683b",
   "metadata": {},
   "outputs": [
    {
     "data": {
      "text/html": [
       "<div>\n",
       "<style scoped>\n",
       "    .dataframe tbody tr th:only-of-type {\n",
       "        vertical-align: middle;\n",
       "    }\n",
       "\n",
       "    .dataframe tbody tr th {\n",
       "        vertical-align: top;\n",
       "    }\n",
       "\n",
       "    .dataframe thead th {\n",
       "        text-align: right;\n",
       "    }\n",
       "</style>\n",
       "<table border=\"1\" class=\"dataframe\">\n",
       "  <thead>\n",
       "    <tr style=\"text-align: right;\">\n",
       "      <th></th>\n",
       "      <th>sexo</th>\n",
       "      <th>edad</th>\n",
       "      <th>escolaridad</th>\n",
       "      <th>fumador</th>\n",
       "      <th>cigarrillos_por_dia</th>\n",
       "      <th>uso_medicamento_presion</th>\n",
       "      <th>acv</th>\n",
       "      <th>hipertension</th>\n",
       "      <th>diabetes</th>\n",
       "      <th>colesterol_total</th>\n",
       "      <th>presion_arterial_sistolica</th>\n",
       "      <th>presion_arterial_diastolica</th>\n",
       "      <th>imc</th>\n",
       "      <th>frecuencia_cardiaca</th>\n",
       "      <th>glicemia</th>\n",
       "      <th>riesgo_eac_decada</th>\n",
       "    </tr>\n",
       "  </thead>\n",
       "  <tbody>\n",
       "    <tr>\n",
       "      <th>0</th>\n",
       "      <td>1</td>\n",
       "      <td>39</td>\n",
       "      <td>4.0</td>\n",
       "      <td>0</td>\n",
       "      <td>0.0</td>\n",
       "      <td>0.0</td>\n",
       "      <td>0</td>\n",
       "      <td>0</td>\n",
       "      <td>0</td>\n",
       "      <td>195.0</td>\n",
       "      <td>106.0</td>\n",
       "      <td>70.0</td>\n",
       "      <td>26.97</td>\n",
       "      <td>80.0</td>\n",
       "      <td>77.0</td>\n",
       "      <td>0</td>\n",
       "    </tr>\n",
       "    <tr>\n",
       "      <th>1</th>\n",
       "      <td>0</td>\n",
       "      <td>46</td>\n",
       "      <td>2.0</td>\n",
       "      <td>0</td>\n",
       "      <td>0.0</td>\n",
       "      <td>0.0</td>\n",
       "      <td>0</td>\n",
       "      <td>0</td>\n",
       "      <td>0</td>\n",
       "      <td>250.0</td>\n",
       "      <td>121.0</td>\n",
       "      <td>81.0</td>\n",
       "      <td>28.73</td>\n",
       "      <td>95.0</td>\n",
       "      <td>76.0</td>\n",
       "      <td>0</td>\n",
       "    </tr>\n",
       "    <tr>\n",
       "      <th>2</th>\n",
       "      <td>1</td>\n",
       "      <td>48</td>\n",
       "      <td>1.0</td>\n",
       "      <td>1</td>\n",
       "      <td>20.0</td>\n",
       "      <td>0.0</td>\n",
       "      <td>0</td>\n",
       "      <td>0</td>\n",
       "      <td>0</td>\n",
       "      <td>245.0</td>\n",
       "      <td>127.5</td>\n",
       "      <td>80.0</td>\n",
       "      <td>25.34</td>\n",
       "      <td>75.0</td>\n",
       "      <td>70.0</td>\n",
       "      <td>0</td>\n",
       "    </tr>\n",
       "    <tr>\n",
       "      <th>3</th>\n",
       "      <td>0</td>\n",
       "      <td>61</td>\n",
       "      <td>3.0</td>\n",
       "      <td>1</td>\n",
       "      <td>30.0</td>\n",
       "      <td>0.0</td>\n",
       "      <td>0</td>\n",
       "      <td>1</td>\n",
       "      <td>0</td>\n",
       "      <td>225.0</td>\n",
       "      <td>150.0</td>\n",
       "      <td>95.0</td>\n",
       "      <td>28.58</td>\n",
       "      <td>65.0</td>\n",
       "      <td>103.0</td>\n",
       "      <td>1</td>\n",
       "    </tr>\n",
       "    <tr>\n",
       "      <th>4</th>\n",
       "      <td>0</td>\n",
       "      <td>46</td>\n",
       "      <td>3.0</td>\n",
       "      <td>1</td>\n",
       "      <td>23.0</td>\n",
       "      <td>0.0</td>\n",
       "      <td>0</td>\n",
       "      <td>0</td>\n",
       "      <td>0</td>\n",
       "      <td>285.0</td>\n",
       "      <td>130.0</td>\n",
       "      <td>84.0</td>\n",
       "      <td>23.10</td>\n",
       "      <td>85.0</td>\n",
       "      <td>85.0</td>\n",
       "      <td>0</td>\n",
       "    </tr>\n",
       "  </tbody>\n",
       "</table>\n",
       "</div>"
      ],
      "text/plain": [
       "   sexo  edad  escolaridad  fumador  cigarrillos_por_dia  \\\n",
       "0     1    39          4.0        0                  0.0   \n",
       "1     0    46          2.0        0                  0.0   \n",
       "2     1    48          1.0        1                 20.0   \n",
       "3     0    61          3.0        1                 30.0   \n",
       "4     0    46          3.0        1                 23.0   \n",
       "\n",
       "   uso_medicamento_presion  acv  hipertension  diabetes  colesterol_total  \\\n",
       "0                      0.0    0             0         0             195.0   \n",
       "1                      0.0    0             0         0             250.0   \n",
       "2                      0.0    0             0         0             245.0   \n",
       "3                      0.0    0             1         0             225.0   \n",
       "4                      0.0    0             0         0             285.0   \n",
       "\n",
       "   presion_arterial_sistolica  presion_arterial_diastolica    imc  \\\n",
       "0                       106.0                         70.0  26.97   \n",
       "1                       121.0                         81.0  28.73   \n",
       "2                       127.5                         80.0  25.34   \n",
       "3                       150.0                         95.0  28.58   \n",
       "4                       130.0                         84.0  23.10   \n",
       "\n",
       "   frecuencia_cardiaca  glicemia  riesgo_eac_decada  \n",
       "0                 80.0      77.0                  0  \n",
       "1                 95.0      76.0                  0  \n",
       "2                 75.0      70.0                  0  \n",
       "3                 65.0     103.0                  1  \n",
       "4                 85.0      85.0                  0  "
      ]
     },
     "execution_count": 15,
     "metadata": {},
     "output_type": "execute_result"
    }
   ],
   "source": [
    "ds.head()"
   ]
  },
  {
   "cell_type": "code",
   "execution_count": 16,
   "id": "11c05568",
   "metadata": {},
   "outputs": [],
   "source": [
    "# Excluyendo la columna ‘escolaridad’ debido a que nosabemos el significado de estos datos\n",
    "ds = ds.drop_columns('escolaridad')\n"
   ]
  },
  {
   "cell_type": "markdown",
   "id": "857ab85a",
   "metadata": {},
   "source": [
    "# 2.3. Creando un ADS DataFrame"
   ]
  },
  {
   "cell_type": "code",
   "execution_count": 18,
   "id": "1f9c4452",
   "metadata": {},
   "outputs": [
    {
     "data": {
      "text/html": [
       "<div>\n",
       "<style scoped>\n",
       "    .dataframe tbody tr th:only-of-type {\n",
       "        vertical-align: middle;\n",
       "    }\n",
       "\n",
       "    .dataframe tbody tr th {\n",
       "        vertical-align: top;\n",
       "    }\n",
       "\n",
       "    .dataframe thead th {\n",
       "        text-align: right;\n",
       "    }\n",
       "</style>\n",
       "<table border=\"1\" class=\"dataframe\">\n",
       "  <thead>\n",
       "    <tr style=\"text-align: right;\">\n",
       "      <th></th>\n",
       "      <th>Feature</th>\n",
       "      <th>Datatype</th>\n",
       "    </tr>\n",
       "  </thead>\n",
       "  <tbody>\n",
       "    <tr>\n",
       "      <th>0</th>\n",
       "      <td>sexo</td>\n",
       "      <td>categorical/int64</td>\n",
       "    </tr>\n",
       "    <tr>\n",
       "      <th>1</th>\n",
       "      <td>edad</td>\n",
       "      <td>ordinal/int64</td>\n",
       "    </tr>\n",
       "    <tr>\n",
       "      <th>2</th>\n",
       "      <td>fumador</td>\n",
       "      <td>categorical/int64</td>\n",
       "    </tr>\n",
       "    <tr>\n",
       "      <th>3</th>\n",
       "      <td>cigarrillos_por_dia</td>\n",
       "      <td>ordinal/float64</td>\n",
       "    </tr>\n",
       "    <tr>\n",
       "      <th>4</th>\n",
       "      <td>uso_medicamento_presion</td>\n",
       "      <td>categorical/float64</td>\n",
       "    </tr>\n",
       "    <tr>\n",
       "      <th>5</th>\n",
       "      <td>acv</td>\n",
       "      <td>categorical/int64</td>\n",
       "    </tr>\n",
       "    <tr>\n",
       "      <th>6</th>\n",
       "      <td>hipertension</td>\n",
       "      <td>categorical/int64</td>\n",
       "    </tr>\n",
       "    <tr>\n",
       "      <th>7</th>\n",
       "      <td>diabetes</td>\n",
       "      <td>categorical/int64</td>\n",
       "    </tr>\n",
       "    <tr>\n",
       "      <th>8</th>\n",
       "      <td>colesterol_total</td>\n",
       "      <td>ordinal/float64</td>\n",
       "    </tr>\n",
       "    <tr>\n",
       "      <th>9</th>\n",
       "      <td>presion_arterial_sistolica</td>\n",
       "      <td>continuous/float64</td>\n",
       "    </tr>\n",
       "    <tr>\n",
       "      <th>10</th>\n",
       "      <td>presion_arterial_diastolica</td>\n",
       "      <td>continuous/float64</td>\n",
       "    </tr>\n",
       "    <tr>\n",
       "      <th>11</th>\n",
       "      <td>imc</td>\n",
       "      <td>continuous/float64</td>\n",
       "    </tr>\n",
       "    <tr>\n",
       "      <th>12</th>\n",
       "      <td>frecuencia_cardiaca</td>\n",
       "      <td>ordinal/float64</td>\n",
       "    </tr>\n",
       "    <tr>\n",
       "      <th>13</th>\n",
       "      <td>glicemia</td>\n",
       "      <td>ordinal/float64</td>\n",
       "    </tr>\n",
       "    <tr>\n",
       "      <th>14</th>\n",
       "      <td>riesgo_eac_decada</td>\n",
       "      <td>categorical/int64</td>\n",
       "    </tr>\n",
       "  </tbody>\n",
       "</table>\n",
       "</div>"
      ],
      "text/plain": [
       "                        Feature             Datatype\n",
       "0                          sexo    categorical/int64\n",
       "1                          edad        ordinal/int64\n",
       "2                       fumador    categorical/int64\n",
       "3           cigarrillos_por_dia      ordinal/float64\n",
       "4       uso_medicamento_presion  categorical/float64\n",
       "5                           acv    categorical/int64\n",
       "6                  hipertension    categorical/int64\n",
       "7                      diabetes    categorical/int64\n",
       "8              colesterol_total      ordinal/float64\n",
       "9    presion_arterial_sistolica   continuous/float64\n",
       "10  presion_arterial_diastolica   continuous/float64\n",
       "11                          imc   continuous/float64\n",
       "12          frecuencia_cardiaca      ordinal/float64\n",
       "13                     glicemia      ordinal/float64\n",
       "14            riesgo_eac_decada    categorical/int64"
      ]
     },
     "execution_count": 18,
     "metadata": {},
     "output_type": "execute_result"
    }
   ],
   "source": [
    "ds.summary()"
   ]
  },
  {
   "cell_type": "code",
   "execution_count": 19,
   "id": "bb766c82",
   "metadata": {},
   "outputs": [
    {
     "data": {
      "text/plain": [
       "array([ 0., 20., 30., 23., 15.,  9., 10.,  5., 35., 43.,  1., 40.,  3.,\n",
       "        2., nan, 12.,  4., 18., 25., 60., 14., 45.,  8., 50., 13., 11.,\n",
       "        7.,  6., 38., 29., 17., 16., 19., 70.])"
      ]
     },
     "execution_count": 19,
     "metadata": {},
     "output_type": "execute_result"
    }
   ],
   "source": [
    "ds.cigarrillos_por_dia.unique()"
   ]
  },
  {
   "cell_type": "code",
   "execution_count": 20,
   "id": "ad56a189",
   "metadata": {},
   "outputs": [
    {
     "data": {
      "text/plain": [
       "sexo                             0\n",
       "edad                             0\n",
       "fumador                          0\n",
       "cigarrillos_por_dia             29\n",
       "uso_medicamento_presion         53\n",
       "acv                              0\n",
       "hipertension                     0\n",
       "diabetes                         0\n",
       "colesterol_total                50\n",
       "presion_arterial_sistolica       0\n",
       "presion_arterial_diastolica      0\n",
       "imc                             19\n",
       "frecuencia_cardiaca              1\n",
       "glicemia                       388\n",
       "riesgo_eac_decada                0\n",
       "dtype: int64"
      ]
     },
     "execution_count": 20,
     "metadata": {},
     "output_type": "execute_result"
    }
   ],
   "source": [
    "ds.isnull().sum()"
   ]
  },
  {
   "cell_type": "code",
   "execution_count": 21,
   "id": "9b1f66db",
   "metadata": {},
   "outputs": [],
   "source": [
    "# Creando un vector booleano (True y False) que posee \n",
    "#el valor True en las filas donde la columna ‘cigarrillos_por_dia’ no posee valores nulos\n",
    "seleccion_correctos = ds.cigarrillos_por_dia.notnull()"
   ]
  },
  {
   "cell_type": "code",
   "execution_count": 22,
   "id": "1e3787e7",
   "metadata": {},
   "outputs": [],
   "source": [
    "# Aplicando la selección de la variable seleccion_correctos al \n",
    "#DataFrame\n",
    "ds = ds[seleccion_correctos]"
   ]
  },
  {
   "cell_type": "code",
   "execution_count": 23,
   "id": "e6bc8541",
   "metadata": {},
   "outputs": [],
   "source": [
    "# Realizando la selección de filas no nulas con notnull \n",
    "#de las columnas  ‘uso_medicamento_presion’, ‘colesterol_total’, \n",
    "#‘imc’ y ‘frecuencia_cardiaca’\n",
    "ds = ds[ds.uso_medicamento_presion.notnull()]\n",
    "ds = ds[ds.colesterol_total.notnull()]\n",
    "ds = ds[ds.imc.notnull()]\n",
    "ds = ds[ds.frecuencia_cardiaca.notnull()]"
   ]
  },
  {
   "cell_type": "code",
   "execution_count": 24,
   "id": "56f4d5d3",
   "metadata": {},
   "outputs": [
    {
     "data": {
      "text/plain": [
       "sexo                             0\n",
       "edad                             0\n",
       "fumador                          0\n",
       "cigarrillos_por_dia              0\n",
       "uso_medicamento_presion          0\n",
       "acv                              0\n",
       "hipertension                     0\n",
       "diabetes                         0\n",
       "colesterol_total                 0\n",
       "presion_arterial_sistolica       0\n",
       "presion_arterial_diastolica      0\n",
       "imc                              0\n",
       "frecuencia_cardiaca              0\n",
       "glicemia                       339\n",
       "riesgo_eac_decada                0\n",
       "dtype: int64"
      ]
     },
     "execution_count": 24,
     "metadata": {},
     "output_type": "execute_result"
    }
   ],
   "source": [
    "ds.isnull().sum()"
   ]
  },
  {
   "cell_type": "markdown",
   "id": "d2d3cffc",
   "metadata": {},
   "source": [
    "## 2.4. Tratamiento de datos faltantes"
   ]
  },
  {
   "cell_type": "code",
   "execution_count": 25,
   "id": "5bc5d9f4",
   "metadata": {},
   "outputs": [],
   "source": [
    "personas_con_diabetes = ds[ds.diabetes == 1]"
   ]
  },
  {
   "cell_type": "code",
   "execution_count": 26,
   "id": "07ebf13a",
   "metadata": {},
   "outputs": [],
   "source": [
    "personas_sin_diabetes = ds[ds.diabetes == 0]"
   ]
  },
  {
   "cell_type": "code",
   "execution_count": 27,
   "id": "b06c1752",
   "metadata": {},
   "outputs": [
    {
     "data": {
      "text/plain": [
       "37    225.0\n",
       "44    215.0\n",
       "56     55.0\n",
       "66    202.0\n",
       "96    126.0\n",
       "Name: glicemia, dtype: float64"
      ]
     },
     "execution_count": 27,
     "metadata": {},
     "output_type": "execute_result"
    }
   ],
   "source": [
    "personas_con_diabetes.glicemia.head()"
   ]
  },
  {
   "cell_type": "code",
   "execution_count": 28,
   "id": "021b22b5",
   "metadata": {},
   "outputs": [
    {
     "data": {
      "text/plain": [
       "count    3749.000000\n",
       "mean       81.883169\n",
       "std        23.888039\n",
       "min        40.000000\n",
       "25%        71.000000\n",
       "50%        78.000000\n",
       "75%        87.000000\n",
       "max       394.000000\n",
       "Name: glicemia, dtype: float64"
      ]
     },
     "execution_count": 28,
     "metadata": {},
     "output_type": "execute_result"
    }
   ],
   "source": [
    "ds.glicemia.describe()"
   ]
  },
  {
   "cell_type": "code",
   "execution_count": 29,
   "id": "d4e9e7ff",
   "metadata": {},
   "outputs": [
    {
     "data": {
      "text/plain": [
       "0    0.97456\n",
       "1    0.02544\n",
       "Name: diabetes, dtype: float64"
      ]
     },
     "execution_count": 29,
     "metadata": {},
     "output_type": "execute_result"
    }
   ],
   "source": [
    "ds.diabetes.value_counts(normalize=True)"
   ]
  },
  {
   "cell_type": "code",
   "execution_count": 30,
   "id": "69fbedd1",
   "metadata": {},
   "outputs": [],
   "source": [
    "import seaborn as sns"
   ]
  },
  {
   "cell_type": "code",
   "execution_count": 32,
   "id": "7954c2ca",
   "metadata": {},
   "outputs": [
    {
     "data": {
      "text/plain": [
       "(0.0, 400.0)"
      ]
     },
     "execution_count": 32,
     "metadata": {},
     "output_type": "execute_result"
    },
    {
     "data": {
      "image/png": "[encoded data removed]",
      "text/plain": [
       "<Figure size 640x480 with 1 Axes>"
      ]
     },
     "metadata": {},
     "output_type": "display_data"
    }
   ],
   "source": [
    "ax = sns.distplot(personas_con_diabetes.glicemia, norm_hist=False)\n",
    "ax.set_xlim(0,400)"
   ]
  },
  {
   "cell_type": "code",
   "execution_count": 34,
   "id": "b8fcacd6",
   "metadata": {},
   "outputs": [],
   "source": [
    "#seleccionar los datos nulos\n",
    "nulos = ds.glicemia.isnull()"
   ]
  },
  {
   "cell_type": "code",
   "execution_count": 36,
   "id": "40ef285b",
   "metadata": {},
   "outputs": [
    {
     "data": {
      "text/plain": [
       "0    337\n",
       "1      2\n",
       "Name: diabetes, dtype: int64"
      ]
     },
     "execution_count": 36,
     "metadata": {},
     "output_type": "execute_result"
    }
   ],
   "source": [
    "# Seleccionando las filas con valores nulos de glicemia en la\n",
    "#columna ‘diabetes’ y  contando los datos\n",
    "ds[nulos].diabetes.value_counts()"
   ]
  },
  {
   "cell_type": "code",
   "execution_count": 39,
   "id": "9b8417b6",
   "metadata": {},
   "outputs": [],
   "source": [
    "#vemos que personas sin diabetes es la mayoría por lo cual el promedio puede \n",
    "#ser aplicado sin ningun problema\n",
    "ds.fillna({'glicemia':81.8}, inplace= True)"
   ]
  },
  {
   "cell_type": "markdown",
   "id": "12af7c5e",
   "metadata": {},
   "source": []
  },
  {
   "cell_type": "code",
   "execution_count": null,
   "id": "cc6fd40a",
   "metadata": {},
   "outputs": [],
   "source": []
  },
  {
   "cell_type": "code",
   "execution_count": null,
   "id": "6b01d633",
   "metadata": {},
   "outputs": [],
   "source": []
  },
  {
   "cell_type": "code",
   "execution_count": null,
   "id": "346d2696",
   "metadata": {},
   "outputs": [],
   "source": []
  },
  {
   "cell_type": "code",
   "execution_count": null,
   "id": "7bb86bd9",
   "metadata": {},
   "outputs": [],
   "source": []
  },
  {
   "cell_type": "code",
   "execution_count": null,
   "id": "b69db656",
   "metadata": {},
   "outputs": [],
   "source": []
  }
 ],
 "metadata": {
  "kernelspec": {
   "display_name": "Python [conda env:dbexp_p38_cpu_v1]",
   "language": "python",
   "name": "conda-env-dbexp_p38_cpu_v1-py"
  },
  "language_info": {
   "codemirror_mode": {
    "name": "ipython",
    "version": 3
   },
   "file_extension": ".py",
   "mimetype": "text/x-python",
   "name": "python",
   "nbconvert_exporter": "python",
   "pygments_lexer": "ipython3",
   "version": "3.8.13"
  }
 },
 "nbformat": 4,
 "nbformat_minor": 5
}
